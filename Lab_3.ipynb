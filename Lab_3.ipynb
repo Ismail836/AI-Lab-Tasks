{
  "nbformat": 4,
  "nbformat_minor": 0,
  "metadata": {
    "colab": {
      "provenance": []
    },
    "kernelspec": {
      "name": "python3",
      "display_name": "Python 3"
    },
    "language_info": {
      "name": "python"
    }
  },
  "cells": [
    {
      "cell_type": "code",
      "execution_count": null,
      "metadata": {
        "id": "mrTbYkdeJzwy"
      },
      "outputs": [],
      "source": []
    },
    {
      "cell_type": "markdown",
      "source": [
        "# **Undirected Graph**"
      ],
      "metadata": {
        "id": "8Jo7PEeJKbxJ"
      }
    },
    {
      "cell_type": "code",
      "source": [
        "from collections import deque\n",
        "pakistan_cities = {\n",
        "    'Haripur': ['Kohat'],\n",
        "    'Kohat': ['Haripur', 'Swabi'],\n",
        "    'Swabi': ['Kohat', 'Abbottabad', 'Mansehra'],\n",
        "    'Abbottabad': ['Swabi', 'Lahore'],\n",
        "    'Mansehra': ['Swabi'],\n",
        "    'Lahore': ['Abbottabad', 'Islamabad'],\n",
        "    'Islamabad': ['Lahore', 'Ghazi'],\n",
        "    'Ghazi': ['Islamabad']\n",
        "}\n",
        "\n",
        "def bfs_shortest_path(graph, start, goal):\n",
        "    queue = deque([[start]])\n",
        "    visited = set()\n",
        "    while queue:\n",
        "        path = queue.popleft()\n",
        "        current_city = path[-1]\n",
        "        if current_city == goal:\n",
        "            return path\n",
        "        if current_city not in visited:\n",
        "            visited.add(current_city)\n",
        "            for neighbor in graph.get(current_city, []):\n",
        "                new_path = list(path)\n",
        "                new_path.append(neighbor)\n",
        "                queue.append(new_path)\n",
        "    return None\n",
        "\n",
        "def dfs_path(graph, start, goal, path=None, visited=None):\n",
        "    if path is None:\n",
        "        path = []\n",
        "    if visited is None:\n",
        "        visited = set()\n",
        "    path.append(start)\n",
        "    visited.add(start)\n",
        "    if start == goal:\n",
        "        return path\n",
        "    for neighbor in graph.get(start, []):\n",
        "        if neighbor not in visited:\n",
        "            result = dfs_path(graph, neighbor, goal, path.copy(), visited.copy())\n",
        "            if result:\n",
        "                return result\n",
        "    return None\n",
        "\n",
        "start_city = \"Haripur\"\n",
        "goal_city = \"Ghazi\"\n",
        "\n",
        "bfs_result = bfs_shortest_path(pakistan_cities, start_city, goal_city)\n",
        "print(\"BFS Shortest Path from Haripur to Ghazi:\", bfs_result)\n",
        "dfs_result = dfs_path(pakistan_cities, start_city, goal_city)\n",
        "print(\"DFS Path from Haripur to Ghazi:\", dfs_result)\n"
      ],
      "metadata": {
        "colab": {
          "base_uri": "https://localhost:8080/"
        },
        "id": "-zVOwDJNKkKz",
        "outputId": "37346c32-32eb-463e-b2f0-00d33a9a7c03"
      },
      "execution_count": 2,
      "outputs": [
        {
          "output_type": "stream",
          "name": "stdout",
          "text": [
            "BFS Shortest Path from Haripur to Ghazi: ['Haripur', 'Kohat', 'Swabi', 'Abbottabad', 'Lahore', 'Islamabad', 'Ghazi']\n",
            "DFS Path from Haripur to Ghazi: ['Haripur', 'Kohat', 'Swabi', 'Abbottabad', 'Lahore', 'Islamabad', 'Ghazi']\n"
          ]
        }
      ]
    },
    {
      "cell_type": "code",
      "source": [],
      "metadata": {
        "id": "CmczrpCaL3w2"
      },
      "execution_count": null,
      "outputs": []
    }
  ]
}