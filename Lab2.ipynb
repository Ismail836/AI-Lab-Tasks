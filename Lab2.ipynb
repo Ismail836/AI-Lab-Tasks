{
  "nbformat": 4,
  "nbformat_minor": 0,
  "metadata": {
    "colab": {
      "provenance": [],
      "toc_visible": true,
      "collapsed_sections": [
        "UCxYsBXS57vp",
        "V-Smlkkr6I5i",
        "D3kzIM4a6RqI"
      ]
    },
    "kernelspec": {
      "name": "python3",
      "display_name": "Python 3"
    },
    "language_info": {
      "name": "python"
    }
  },
  "cells": [
    {
      "cell_type": "code",
      "execution_count": null,
      "metadata": {
        "id": "Y8qqgiEz541F"
      },
      "outputs": [],
      "source": []
    },
    {
      "cell_type": "markdown",
      "source": [
        "# **Task 1:Lists**"
      ],
      "metadata": {
        "id": "UCxYsBXS57vp"
      }
    },
    {
      "cell_type": "code",
      "source": [
        "#create list of 10 integers\n",
        "num = [32,12,34,54,23,12,3,44,5,32]\n",
        "print(num)\n",
        "\n",
        "#find and print the sum, maximum, and minimum\n",
        "\n",
        "print('Sum',sum(num))\n",
        "print('Max',max(num))\n",
        "print('Min',min(num))\n",
        "\n",
        "#add and remove element\n",
        "num.append(100)\n",
        "num.remove(32)\n",
        "print(\"updated list: \",num)\n",
        "\n",
        "#sort the list\n",
        "#ascending\n",
        "num.sort()\n",
        "print('Sorted list: ',num)\n",
        "#descending\n",
        "num.reverse()\n",
        "print('reverse list: ',num)\n"
      ],
      "metadata": {
        "id": "U4dPr8FZ6Kja",
        "colab": {
          "base_uri": "https://localhost:8080/"
        },
        "outputId": "c20d895c-1f47-4254-bf53-72afb63e9527"
      },
      "execution_count": 7,
      "outputs": [
        {
          "output_type": "stream",
          "name": "stdout",
          "text": [
            "[32, 12, 34, 54, 23, 12, 3, 44, 5, 32]\n",
            "Sum 251\n",
            "Max 54\n",
            "Min 3\n",
            "updated list:  [12, 34, 54, 23, 12, 3, 44, 5, 32, 100]\n",
            "Sorted list:  [3, 5, 12, 12, 23, 32, 34, 44, 54, 100]\n",
            "reverse list:  [100, 54, 44, 34, 32, 23, 12, 12, 5, 3]\n"
          ]
        }
      ]
    },
    {
      "cell_type": "markdown",
      "source": [
        "# **Task 2:Tuples**"
      ],
      "metadata": {
        "id": "V-Smlkkr6I5i"
      }
    },
    {
      "cell_type": "code",
      "source": [
        "#create a tuple\n",
        "Fruits = ('apple', 'banana', 'cherry', 'mango', 'grape')\n",
        "print(Fruits)\n",
        "print('First element', Fruits[0])\n",
        "print('Last element', Fruits[-1])\n",
        "\n",
        "#error on updation\n",
        "# Fruits.append('orange')\n",
        "# print(Fruits)\n",
        "\n",
        "\n",
        "#convert tuple in list and update\n",
        "Fruits_list = list(Fruits)\n",
        "Fruits_list.append('orange')\n",
        "print(Fruits_list)"
      ],
      "metadata": {
        "id": "V2DMFUQD6SEH"
      },
      "execution_count": null,
      "outputs": []
    },
    {
      "cell_type": "markdown",
      "source": [
        "# **Task 3:Sets**"
      ],
      "metadata": {
        "id": "D3kzIM4a6RqI"
      }
    },
    {
      "cell_type": "code",
      "source": [
        "#Create sets\n",
        "A={1,2,3,4,5}\n",
        "B={2,3,4,5,6}\n",
        "\n",
        "# Union, intersection, and difference\n",
        "print('Union',A | B)\n",
        "print('Intersection',A & B)\n",
        "print('Difference',A - B)"
      ],
      "metadata": {
        "id": "xXtO2v0165kg",
        "colab": {
          "base_uri": "https://localhost:8080/"
        },
        "outputId": "7d41dab9-89c4-42bd-97d5-aecf5f0b82d7"
      },
      "execution_count": 10,
      "outputs": [
        {
          "output_type": "stream",
          "name": "stdout",
          "text": [
            "Union {1, 2, 3, 4, 5, 6}\n",
            "Intersection {2, 3, 4, 5}\n",
            "Difference {1}\n"
          ]
        }
      ]
    },
    {
      "cell_type": "markdown",
      "source": [
        "# **Task 4:Dictionary**"
      ],
      "metadata": {
        "id": "ParvKWdF6XxQ"
      }
    },
    {
      "cell_type": "code",
      "source": [
        "#create a dictionary of Friends and their marks\n",
        "Friend_marks = {\n",
        "    'Ismail': 98,\n",
        "    'Mohiz': 92,\n",
        "    'Hammad': 78,\n",
        "    'Hanif': 95,\n",
        "    'Hamid': 88\n",
        "}\n",
        "\n",
        "#print the Key and values\n",
        "print('key',Friend_marks.keys())\n",
        "print('Values',Friend_marks.values())\n",
        "\n",
        "#update value\n",
        "Friend_marks['Hammad']=85\n",
        "print(Friend_marks)"
      ],
      "metadata": {
        "id": "jS94ickD6m_n"
      },
      "execution_count": null,
      "outputs": []
    },
    {
      "cell_type": "markdown",
      "source": [
        "# **Task 5: Numpy**"
      ],
      "metadata": {
        "id": "pW2BYFwu6mgY"
      }
    },
    {
      "cell_type": "markdown",
      "source": [
        "# **Task 6:Matplolib**"
      ],
      "metadata": {
        "id": "q_Az5yYh6uiX"
      }
    }
  ]
}