{
  "nbformat": 4,
  "nbformat_minor": 0,
  "metadata": {
    "colab": {
      "provenance": [],
      "toc_visible": true
    },
    "kernelspec": {
      "name": "python3",
      "display_name": "Python 3"
    },
    "language_info": {
      "name": "python"
    }
  },
  "cells": [
    {
      "cell_type": "code",
      "execution_count": null,
      "metadata": {
        "id": "ividhAx5Z9gJ"
      },
      "outputs": [],
      "source": []
    },
    {
      "cell_type": "markdown",
      "source": [
        "# A*\n"
      ],
      "metadata": {
        "id": "xI96zGAAe98M"
      }
    },
    {
      "cell_type": "code",
      "source": [
        "import heapq\n",
        "\n",
        "JUG1 = 4\n",
        "JUG2 = 3\n",
        "GOAL = 1\n",
        "\n",
        "def heuristic(state):\n",
        "    x, y = state\n",
        "    return min(abs(x - GOAL), abs(y - GOAL))\n",
        "\n",
        "def a_star_water_jug():\n",
        "    start = (0, 0)\n",
        "    open_list = []\n",
        "    heapq.heappush(open_list, (heuristic(start), 0, [start]))\n",
        "    visited = {}\n",
        "\n",
        "    while open_list:\n",
        "        f, g, path = heapq.heappop(open_list)\n",
        "        state = path[-1]\n",
        "\n",
        "        if state[0] == GOAL or state[1] == GOAL:\n",
        "            return path\n",
        "\n",
        "        if state in visited and visited[state] <= g:\n",
        "            continue\n",
        "        visited[state] = g\n",
        "\n",
        "        x, y = state\n",
        "        next_states = [\n",
        "            (JUG1, y),\n",
        "            (x, JUG2),\n",
        "            (0, y),\n",
        "            (x, 0),\n",
        "            (x - min(x, JUG2 - y), y + min(x, JUG2 - y)),\n",
        "            (x + min(y, JUG1 - x), y - min(y, JUG1 - x))\n",
        "        ]\n",
        "\n",
        "        for nxt in next_states:\n",
        "            if nxt not in visited or g + 1 < visited.get(nxt, float('inf')):\n",
        "                new_path = list(path)\n",
        "                new_path.append(nxt)\n",
        "                new_g = g + 1\n",
        "                new_f = new_g + heuristic(nxt)\n",
        "                heapq.heappush(open_list, (new_f, new_g, new_path))\n",
        "\n",
        "solution = a_star_water_jug()\n",
        "print(\"A* Solution path:\")\n",
        "for step in solution:\n",
        "    print(step)"
      ],
      "metadata": {
        "colab": {
          "base_uri": "https://localhost:8080/"
        },
        "id": "I6tmMUAhfBBE",
        "outputId": "111200e8-db82-47b2-e46d-29bf794bbc01"
      },
      "execution_count": 3,
      "outputs": [
        {
          "output_type": "stream",
          "name": "stdout",
          "text": [
            "A* Solution path:\n",
            "(0, 0)\n",
            "(4, 0)\n",
            "(1, 3)\n"
          ]
        }
      ]
    },
    {
      "cell_type": "markdown",
      "source": [
        "# DFS\n"
      ],
      "metadata": {
        "id": "POQElJ3mf06U"
      }
    },
    {
      "cell_type": "code",
      "source": [
        "import heapq\n",
        "\n",
        "JUG1 = 4\n",
        "JUG2 = 3\n",
        "GOAL = 1\n",
        "\n",
        "def water_jug_dfs():\n",
        "    start = (0, 0)\n",
        "    stack = [[start]]\n",
        "    visited = set()\n",
        "\n",
        "    while stack:\n",
        "        path = stack.pop()\n",
        "        state = path[-1]\n",
        "\n",
        "        if state[0] == GOAL or state[1] == GOAL:\n",
        "            return path\n",
        "\n",
        "        if state in visited:\n",
        "            continue\n",
        "        visited.add(state)\n",
        "\n",
        "        x, y = state\n",
        "\n",
        "        next_states = [\n",
        "            (JUG1, y),\n",
        "            (x, JUG2),\n",
        "            (0, y),\n",
        "            (x, 0),\n",
        "            (x - min(x, JUG2 - y), y + min(x, JUG2 - y)),\n",
        "            (x + min(y, JUG1 - x), y - min(y, JUG1 - x))\n",
        "        ]\n",
        "\n",
        "        for nxt in next_states:\n",
        "            if nxt not in visited:\n",
        "                new_path = list(path)\n",
        "                new_path.append(nxt)\n",
        "                stack.append(new_path)\n",
        "    return None\n",
        "\n",
        "solution = water_jug_dfs()\n",
        "print(\"DFS Solution path:\")\n",
        "for step in solution:\n",
        "    print(step)"
      ],
      "metadata": {
        "colab": {
          "base_uri": "https://localhost:8080/"
        },
        "id": "ZlUTjsQDf6P7",
        "outputId": "53657413-5255-4087-cb1e-e16c73dc7b1b"
      },
      "execution_count": 5,
      "outputs": [
        {
          "output_type": "stream",
          "name": "stdout",
          "text": [
            "DFS Solution path:\n",
            "(0, 0)\n",
            "(0, 3)\n",
            "(3, 0)\n",
            "(3, 3)\n",
            "(4, 2)\n",
            "(4, 0)\n",
            "(1, 3)\n"
          ]
        }
      ]
    },
    {
      "cell_type": "markdown",
      "source": [
        "# BFS"
      ],
      "metadata": {
        "id": "ck1m8cmCgG-T"
      }
    },
    {
      "cell_type": "code",
      "source": [
        "from collections import deque\n",
        "\n",
        "JUG1 = 4\n",
        "JUG2 = 3\n",
        "GOAL = 1\n",
        "\n",
        "def water_jug_bfs():\n",
        "    start = (0, 0)\n",
        "    visited = set()\n",
        "    queue = deque([[start]])\n",
        "\n",
        "    while queue:\n",
        "        path = queue.popleft()\n",
        "        state = path[-1]\n",
        "\n",
        "        if state[0] == GOAL or state[1] == GOAL:\n",
        "            return path\n",
        "\n",
        "        if state in visited:\n",
        "            continue\n",
        "        visited.add(state)\n",
        "\n",
        "        x, y = state\n",
        "\n",
        "        next_states = [\n",
        "            (JUG1, y),\n",
        "            (x, JUG2),\n",
        "            (0, y),\n",
        "            (x, 0),\n",
        "            (x - min(x, JUG2 - y), y + min(x, JUG2 - y)),\n",
        "            (x + min(y, JUG1 - x), y - min(y, JUG1 - x))\n",
        "        ]\n",
        "\n",
        "        for nxt in next_states:\n",
        "            if nxt not in visited:\n",
        "                new_path = list(path)\n",
        "                new_path.append(nxt)\n",
        "                queue.append(new_path)\n",
        "    return None\n",
        "\n",
        "solution = water_jug_bfs()\n",
        "print(\"BFS Solution path:\")\n",
        "for step in solution:\n",
        "    print(step)\n"
      ],
      "metadata": {
        "colab": {
          "base_uri": "https://localhost:8080/"
        },
        "id": "eueKcFiYgIOa",
        "outputId": "2368dc7a-f091-4cb6-cb89-5302f83e0b16"
      },
      "execution_count": 4,
      "outputs": [
        {
          "output_type": "stream",
          "name": "stdout",
          "text": [
            "BFS Solution path:\n",
            "(0, 0)\n",
            "(4, 0)\n",
            "(1, 3)\n"
          ]
        }
      ]
    }
  ]
}